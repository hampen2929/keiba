{
 "cells": [
  {
   "cell_type": "markdown",
   "metadata": {
    "toc": true
   },
   "source": [
    "<h1>Table of Contents<span class=\"tocSkip\"></span></h1>\n",
    "<div class=\"toc\"><ul class=\"toc-item\"><li><span><a href=\"#データの取得\" data-toc-modified-id=\"データの取得-1\"><span class=\"toc-item-num\">1&nbsp;&nbsp;</span>データの取得</a></span><ul class=\"toc-item\"><li><span><a href=\"#学習とテストデータ\" data-toc-modified-id=\"学習とテストデータ-1.1\"><span class=\"toc-item-num\">1.1&nbsp;&nbsp;</span>学習とテストデータ</a></span></li><li><span><a href=\"#カラム名取得\" data-toc-modified-id=\"カラム名取得-1.2\"><span class=\"toc-item-num\">1.2&nbsp;&nbsp;</span>カラム名取得</a></span></li></ul></li><li><span><a href=\"#データ結合\" data-toc-modified-id=\"データ結合-2\"><span class=\"toc-item-num\">2&nbsp;&nbsp;</span>データ結合</a></span><ul class=\"toc-item\"><li><span><a href=\"#保存\" data-toc-modified-id=\"保存-2.1\"><span class=\"toc-item-num\">2.1&nbsp;&nbsp;</span>保存</a></span></li><li><span><a href=\"#データ読み込み\" data-toc-modified-id=\"データ読み込み-2.2\"><span class=\"toc-item-num\">2.2&nbsp;&nbsp;</span>データ読み込み</a></span></li></ul></li><li><span><a href=\"#年月日の分離\" data-toc-modified-id=\"年月日の分離-3\"><span class=\"toc-item-num\">3&nbsp;&nbsp;</span>年月日の分離</a></span></li><li><span><a href=\"#人気順位算出\" data-toc-modified-id=\"人気順位算出-4\"><span class=\"toc-item-num\">4&nbsp;&nbsp;</span>人気順位算出</a></span></li><li><span><a href=\"#スピアマン順位相関係数計算\" data-toc-modified-id=\"スピアマン順位相関係数計算-5\"><span class=\"toc-item-num\">5&nbsp;&nbsp;</span>スピアマン順位相関係数計算</a></span><ul class=\"toc-item\"><li><span><a href=\"#計算\" data-toc-modified-id=\"計算-5.1\"><span class=\"toc-item-num\">5.1&nbsp;&nbsp;</span>計算</a></span></li><li><span><a href=\"#ヒストグラム\" data-toc-modified-id=\"ヒストグラム-5.2\"><span class=\"toc-item-num\">5.2&nbsp;&nbsp;</span>ヒストグラム</a></span></li></ul></li><li><span><a href=\"#One-hot-encoding\" data-toc-modified-id=\"One-hot-encoding-6\"><span class=\"toc-item-num\">6&nbsp;&nbsp;</span>One hot encoding</a></span><ul class=\"toc-item\"><li><span><a href=\"#必要な説明変数の選定\" data-toc-modified-id=\"必要な説明変数の選定-6.1\"><span class=\"toc-item-num\">6.1&nbsp;&nbsp;</span>必要な説明変数の選定</a></span></li><li><span><a href=\"#目的変数\" data-toc-modified-id=\"目的変数-6.2\"><span class=\"toc-item-num\">6.2&nbsp;&nbsp;</span>目的変数</a></span></li></ul></li><li><span><a href=\"#データの分割\" data-toc-modified-id=\"データの分割-7\"><span class=\"toc-item-num\">7&nbsp;&nbsp;</span>データの分割</a></span><ul class=\"toc-item\"><li><span><a href=\"#学習とテストの年に絞る\" data-toc-modified-id=\"学習とテストの年に絞る-7.1\"><span class=\"toc-item-num\">7.1&nbsp;&nbsp;</span>学習とテストの年に絞る</a></span></li><li><span><a href=\"#学習データ\" data-toc-modified-id=\"学習データ-7.2\"><span class=\"toc-item-num\">7.2&nbsp;&nbsp;</span>学習データ</a></span></li><li><span><a href=\"#テストデータ\" data-toc-modified-id=\"テストデータ-7.3\"><span class=\"toc-item-num\">7.3&nbsp;&nbsp;</span>テストデータ</a></span></li></ul></li><li><span><a href=\"#最適化\" data-toc-modified-id=\"最適化-8\"><span class=\"toc-item-num\">8&nbsp;&nbsp;</span>最適化</a></span></li><li><span><a href=\"#学習\" data-toc-modified-id=\"学習-9\"><span class=\"toc-item-num\">9&nbsp;&nbsp;</span>学習</a></span></li><li><span><a href=\"#予測\" data-toc-modified-id=\"予測-10\"><span class=\"toc-item-num\">10&nbsp;&nbsp;</span>予測</a></span><ul class=\"toc-item\"><li><span><a href=\"#計算\" data-toc-modified-id=\"計算-10.1\"><span class=\"toc-item-num\">10.1&nbsp;&nbsp;</span>計算</a></span></li></ul></li><li><span><a href=\"#racekeyの再結合\" data-toc-modified-id=\"racekeyの再結合-11\"><span class=\"toc-item-num\">11&nbsp;&nbsp;</span>racekeyの再結合</a></span></li><li><span><a href=\"#One-hot-decoding\" data-toc-modified-id=\"One-hot-decoding-12\"><span class=\"toc-item-num\">12&nbsp;&nbsp;</span>One hot decoding</a></span></li><li><span><a href=\"#誤差率の分析\" data-toc-modified-id=\"誤差率の分析-13\"><span class=\"toc-item-num\">13&nbsp;&nbsp;</span>誤差率の分析</a></span></li><li><span><a href=\"#可視化\" data-toc-modified-id=\"可視化-14\"><span class=\"toc-item-num\">14&nbsp;&nbsp;</span>可視化</a></span><ul class=\"toc-item\"><li><span><a href=\"#最適化\" data-toc-modified-id=\"最適化-14.1\"><span class=\"toc-item-num\">14.1&nbsp;&nbsp;</span>最適化</a></span></li><li><span><a href=\"#散布図\" data-toc-modified-id=\"散布図-14.2\"><span class=\"toc-item-num\">14.2&nbsp;&nbsp;</span>散布図</a></span></li><li><span><a href=\"#ヒストグラム\" data-toc-modified-id=\"ヒストグラム-14.3\"><span class=\"toc-item-num\">14.3&nbsp;&nbsp;</span>ヒストグラム</a></span></li><li><span><a href=\"#Training-VS-Validation-Error\" data-toc-modified-id=\"Training-VS-Validation-Error-14.4\"><span class=\"toc-item-num\">14.4&nbsp;&nbsp;</span>Training VS Validation Error</a></span></li><li><span><a href=\"#Feature-importance\" data-toc-modified-id=\"Feature-importance-14.5\"><span class=\"toc-item-num\">14.5&nbsp;&nbsp;</span>Feature importance</a></span></li></ul></li></ul></div>"
   ]
  },
  {
   "cell_type": "markdown",
   "metadata": {},
   "source": [
    "- 01\n",
    " - 荒れるをスピアマン順位相関係数で定義\n",
    " - http://faqnavi13a.csview.jp/faq2/userqa.do?user=jravan&faq=faq01_target&id=286&parent=20\n",
    " "
   ]
  },
  {
   "cell_type": "code",
   "execution_count": 1,
   "metadata": {},
   "outputs": [
    {
     "ename": "ModuleNotFoundError",
     "evalue": "No module named 'psycopg2'",
     "output_type": "error",
     "traceback": [
      "\u001b[0;31m---------------------------------------------------------------------------\u001b[0m",
      "\u001b[0;31mModuleNotFoundError\u001b[0m                       Traceback (most recent call last)",
      "\u001b[0;32m<ipython-input-1-0f6a381e7394>\u001b[0m in \u001b[0;36m<module>\u001b[0;34m()\u001b[0m\n\u001b[0;32m----> 1\u001b[0;31m \u001b[0;32mimport\u001b[0m \u001b[0mpsycopg2\u001b[0m\u001b[0;34m\u001b[0m\u001b[0m\n\u001b[0m\u001b[1;32m      2\u001b[0m \u001b[0;32mimport\u001b[0m \u001b[0mredshift_sqlalchemy\u001b[0m\u001b[0;34m\u001b[0m\u001b[0m\n\u001b[1;32m      3\u001b[0m \u001b[0;32mfrom\u001b[0m \u001b[0msqlalchemy\u001b[0m \u001b[0;32mimport\u001b[0m \u001b[0mcreate_engine\u001b[0m\u001b[0;34m\u001b[0m\u001b[0m\n",
      "\u001b[0;31mModuleNotFoundError\u001b[0m: No module named 'psycopg2'"
     ]
    }
   ],
   "source": [
    "import psycopg2\n",
    "import redshift_sqlalchemy\n",
    "from sqlalchemy import create_engine"
   ]
  },
  {
   "cell_type": "code",
   "execution_count": 2,
   "metadata": {},
   "outputs": [],
   "source": [
    "import matplotlib \n",
    "#matplotlib.use('Agg')\n",
    "import matplotlib.pyplot as plt"
   ]
  },
  {
   "cell_type": "code",
   "execution_count": 4,
   "metadata": {},
   "outputs": [],
   "source": [
    "import pandas as pd\n",
    "\n",
    "import copy\n",
    "import time\n",
    "\n",
    "import math\n",
    "import numpy as np\n",
    "import pandas as pd\n",
    "import scipy as sp\n",
    "import seaborn as sns\n",
    "import os\n",
    "\n",
    "from sklearn import datasets\n",
    "from sklearn.cluster import KMeans\n",
    "from scipy.spatial import distance\n",
    "from sklearn import manifold\n",
    "import sklearn.metrics as metrics"
   ]
  },
  {
   "cell_type": "code",
   "execution_count": 6,
   "metadata": {},
   "outputs": [],
   "source": [
    "import xgboost as xgb\n",
    "from sklearn.model_selection import train_test_split\n",
    "from sklearn.metrics import accuracy_score\n",
    "from skopt import gp_minimize"
   ]
  },
  {
   "cell_type": "code",
   "execution_count": 7,
   "metadata": {},
   "outputs": [],
   "source": [
    "from skopt.plots import plot_convergence"
   ]
  },
  {
   "cell_type": "code",
   "execution_count": 8,
   "metadata": {},
   "outputs": [],
   "source": [
    "from sklearn.preprocessing import OneHotEncoder\n",
    "\n",
    "def sklearn_oneHotEncoder(Y):\n",
    "    Y = Y.reshape(1, -1)\n",
    "    encoder = OneHotEncoder()\n",
    "    oneHotY = encoder.fit_transform(Y.T).toarray()\n",
    "    return oneHotY"
   ]
  },
  {
   "cell_type": "code",
   "execution_count": 9,
   "metadata": {},
   "outputs": [],
   "source": [
    "def onehot_decoder(ctgry_E_df):\n",
    "    colname_list = []\n",
    "    for index, row in ctgry_E_df.iterrows():#各行を取得\n",
    "        for k,v in enumerate(row):#各列の値を取得\n",
    "            if int(v) == 1:#ワンホットになっている列のカラム名を取得\n",
    "                ctgry_name = ctgry_E_df.columns[k]\n",
    "                ctgry_num = ctgry_name.split('_')[-1]\n",
    "\n",
    "                colname_list.append(ctgry_num)\n",
    "                break\n",
    "    return colname_list"
   ]
  },
  {
   "cell_type": "code",
   "execution_count": null,
   "metadata": {},
   "outputs": [],
   "source": []
  },
  {
   "cell_type": "markdown",
   "metadata": {},
   "source": [
    "# データの取得"
   ]
  },
  {
   "cell_type": "markdown",
   "metadata": {},
   "source": [
    "## 学習とテストデータ"
   ]
  },
  {
   "cell_type": "code",
   "execution_count": 10,
   "metadata": {},
   "outputs": [],
   "source": [
    "num_model = '01'"
   ]
  },
  {
   "cell_type": "markdown",
   "metadata": {},
   "source": [
    "## カラム名取得"
   ]
  },
  {
   "cell_type": "code",
   "execution_count": 11,
   "metadata": {},
   "outputs": [],
   "source": [
    "# データ取得は前日までにする\n",
    "path = '../CSV/01_JRDB_raw/'"
   ]
  },
  {
   "cell_type": "code",
   "execution_count": 12,
   "metadata": {},
   "outputs": [],
   "source": [
    "file_name_list = os.listdir(path)"
   ]
  },
  {
   "cell_type": "code",
   "execution_count": 13,
   "metadata": {},
   "outputs": [],
   "source": [
    "data_df_1 = pd.read_csv(path + file_name_list[0], encoding='shift-jis')"
   ]
  },
  {
   "cell_type": "code",
   "execution_count": 14,
   "metadata": {},
   "outputs": [],
   "source": [
    "data_col = data_df_1.columns"
   ]
  },
  {
   "cell_type": "code",
   "execution_count": 15,
   "metadata": {},
   "outputs": [
    {
     "data": {
      "text/plain": [
       "Index(['racekey', '年月日', '年', '回', '日', 'Ｒ', '場コード', 'レース名９文字', 'グレード', '頭数',\n",
       "       '距離', '芝ダ障害コード', '右左', '内外', '重量', '馬場状態コード', '天候コード', '馬番', '馬名',\n",
       "       '血統登録番号', '脚質', '距離適性', '上昇度', 'ローテーション', '人気指数', '調教指数', '激走指数',\n",
       "       '重適正コード', 'クラスコード', '馬齢', '馬体重', '馬体重増減', '負担重量', '芝適性コード', 'ダ適性コード',\n",
       "       '性別コード', '激走タイプ', 'オッズ指数', 'パドック指数', '単勝オッズ', '着順', 'Unnamed: 41'],\n",
       "      dtype='object')"
      ]
     },
     "execution_count": 15,
     "metadata": {},
     "output_type": "execute_result"
    }
   ],
   "source": [
    "data_col"
   ]
  },
  {
   "cell_type": "markdown",
   "metadata": {},
   "source": [
    "# データ結合"
   ]
  },
  {
   "cell_type": "code",
   "execution_count": null,
   "metadata": {},
   "outputs": [],
   "source": [
    "data_all_df = pd.DataFrame(index=[], columns=data_col)\n",
    "for file_name in file_name_list:\n",
    "    data_df_1 = pd.read_csv(path + file_name, encoding='shift-jis')\n",
    "    data_all_df = pd.concat([data_all_df, data_df_1], axis=0)   "
   ]
  },
  {
   "cell_type": "markdown",
   "metadata": {},
   "source": [
    "## 保存"
   ]
  },
  {
   "cell_type": "code",
   "execution_count": null,
   "metadata": {},
   "outputs": [],
   "source": [
    "data_all_df_1"
   ]
  },
  {
   "cell_type": "markdown",
   "metadata": {},
   "source": [
    "data_all_df_1 = data_all_df.drop('Unnamed: 41', axis=1)"
   ]
  },
  {
   "cell_type": "markdown",
   "metadata": {},
   "source": [
    "data_all_df = copy.copy(data_all_df_1)"
   ]
  },
  {
   "cell_type": "code",
   "execution_count": null,
   "metadata": {},
   "outputs": [],
   "source": [
    "data_all_df.to_csv('../CSV/02_JRDB_uni/data_uni.csv', index=False)"
   ]
  },
  {
   "cell_type": "markdown",
   "metadata": {},
   "source": [
    "## データ読み込み"
   ]
  },
  {
   "cell_type": "code",
   "execution_count": 18,
   "metadata": {},
   "outputs": [
    {
     "name": "stderr",
     "output_type": "stream",
     "text": [
      "/anaconda3/envs/python36_xgboost/lib/python3.6/site-packages/IPython/core/interactiveshell.py:2785: DtypeWarning: Columns (1,4,5,6,9,11,12,13,14,19,24,25,26,29) have mixed types. Specify dtype option on import or set low_memory=False.\n",
      "  interactivity=interactivity, compiler=compiler, result=result)\n"
     ]
    }
   ],
   "source": [
    "data_02_df = pd.read_csv('../CSV/02_JRDB_uni/data_uni.csv')"
   ]
  },
  {
   "cell_type": "code",
   "execution_count": 19,
   "metadata": {},
   "outputs": [],
   "source": [
    "racekey_list = data_all_df['racekey'].unique()"
   ]
  },
  {
   "cell_type": "code",
   "execution_count": 22,
   "metadata": {},
   "outputs": [
    {
     "data": {
      "text/html": [
       "<div>\n",
       "<style scoped>\n",
       "    .dataframe tbody tr th:only-of-type {\n",
       "        vertical-align: middle;\n",
       "    }\n",
       "\n",
       "    .dataframe tbody tr th {\n",
       "        vertical-align: top;\n",
       "    }\n",
       "\n",
       "    .dataframe thead th {\n",
       "        text-align: right;\n",
       "    }\n",
       "</style>\n",
       "<table border=\"1\" class=\"dataframe\">\n",
       "  <thead>\n",
       "    <tr style=\"text-align: right;\">\n",
       "      <th></th>\n",
       "      <th>racekey</th>\n",
       "      <th>年月日</th>\n",
       "      <th>年</th>\n",
       "      <th>回</th>\n",
       "      <th>日</th>\n",
       "      <th>Ｒ</th>\n",
       "      <th>場コード</th>\n",
       "      <th>レース名９文字</th>\n",
       "      <th>グレード</th>\n",
       "      <th>頭数</th>\n",
       "      <th>...</th>\n",
       "      <th>負担重量</th>\n",
       "      <th>芝適性コード</th>\n",
       "      <th>ダ適性コード</th>\n",
       "      <th>性別コード</th>\n",
       "      <th>激走タイプ</th>\n",
       "      <th>オッズ指数</th>\n",
       "      <th>パドック指数</th>\n",
       "      <th>単勝オッズ</th>\n",
       "      <th>着順</th>\n",
       "      <th>Unnamed: 41</th>\n",
       "    </tr>\n",
       "  </thead>\n",
       "  <tbody>\n",
       "    <tr>\n",
       "      <th>0</th>\n",
       "      <td>2017072901010101</td>\n",
       "      <td>20170729</td>\n",
       "      <td>17</td>\n",
       "      <td>1</td>\n",
       "      <td>1</td>\n",
       "      <td>1</td>\n",
       "      <td>1</td>\n",
       "      <td>２歳未勝利</td>\n",
       "      <td></td>\n",
       "      <td>7</td>\n",
       "      <td>...</td>\n",
       "      <td>540</td>\n",
       "      <td>△</td>\n",
       "      <td></td>\n",
       "      <td>牡</td>\n",
       "      <td></td>\n",
       "      <td>1.5</td>\n",
       "      <td>2.1</td>\n",
       "      <td>28.9</td>\n",
       "      <td>4</td>\n",
       "      <td>NaN</td>\n",
       "    </tr>\n",
       "    <tr>\n",
       "      <th>1</th>\n",
       "      <td>2017072901010101</td>\n",
       "      <td>20170729</td>\n",
       "      <td>17</td>\n",
       "      <td>1</td>\n",
       "      <td>1</td>\n",
       "      <td>1</td>\n",
       "      <td>1</td>\n",
       "      <td>２歳未勝利</td>\n",
       "      <td></td>\n",
       "      <td>7</td>\n",
       "      <td>...</td>\n",
       "      <td>530</td>\n",
       "      <td>△</td>\n",
       "      <td></td>\n",
       "      <td>牡</td>\n",
       "      <td>A1</td>\n",
       "      <td>2.0</td>\n",
       "      <td>2.3</td>\n",
       "      <td>21.5</td>\n",
       "      <td>5</td>\n",
       "      <td>NaN</td>\n",
       "    </tr>\n",
       "    <tr>\n",
       "      <th>2</th>\n",
       "      <td>2017072901010101</td>\n",
       "      <td>20170729</td>\n",
       "      <td>17</td>\n",
       "      <td>1</td>\n",
       "      <td>1</td>\n",
       "      <td>1</td>\n",
       "      <td>1</td>\n",
       "      <td>２歳未勝利</td>\n",
       "      <td></td>\n",
       "      <td>7</td>\n",
       "      <td>...</td>\n",
       "      <td>540</td>\n",
       "      <td>○</td>\n",
       "      <td></td>\n",
       "      <td>牝</td>\n",
       "      <td></td>\n",
       "      <td>3.0</td>\n",
       "      <td>2.0</td>\n",
       "      <td>3.6</td>\n",
       "      <td>1</td>\n",
       "      <td>NaN</td>\n",
       "    </tr>\n",
       "    <tr>\n",
       "      <th>3</th>\n",
       "      <td>2017072901010101</td>\n",
       "      <td>20170729</td>\n",
       "      <td>17</td>\n",
       "      <td>1</td>\n",
       "      <td>1</td>\n",
       "      <td>1</td>\n",
       "      <td>1</td>\n",
       "      <td>２歳未勝利</td>\n",
       "      <td></td>\n",
       "      <td>7</td>\n",
       "      <td>...</td>\n",
       "      <td>530</td>\n",
       "      <td>△</td>\n",
       "      <td></td>\n",
       "      <td>牡</td>\n",
       "      <td>B1</td>\n",
       "      <td>0.0</td>\n",
       "      <td>0.0</td>\n",
       "      <td>53.2</td>\n",
       "      <td>6</td>\n",
       "      <td>NaN</td>\n",
       "    </tr>\n",
       "    <tr>\n",
       "      <th>4</th>\n",
       "      <td>2017072901010101</td>\n",
       "      <td>20170729</td>\n",
       "      <td>17</td>\n",
       "      <td>1</td>\n",
       "      <td>1</td>\n",
       "      <td>1</td>\n",
       "      <td>1</td>\n",
       "      <td>２歳未勝利</td>\n",
       "      <td></td>\n",
       "      <td>7</td>\n",
       "      <td>...</td>\n",
       "      <td>540</td>\n",
       "      <td>○</td>\n",
       "      <td></td>\n",
       "      <td>牡</td>\n",
       "      <td></td>\n",
       "      <td>3.5</td>\n",
       "      <td>3.5</td>\n",
       "      <td>1.5</td>\n",
       "      <td>2</td>\n",
       "      <td>NaN</td>\n",
       "    </tr>\n",
       "  </tbody>\n",
       "</table>\n",
       "<p>5 rows × 42 columns</p>\n",
       "</div>"
      ],
      "text/plain": [
       "            racekey       年月日   年  回  日  Ｒ 場コード    レース名９文字 グレード 頭数  \\\n",
       "0  2017072901010101  20170729  17  1  1  1    1  ２歳未勝利　　　　       7   \n",
       "1  2017072901010101  20170729  17  1  1  1    1  ２歳未勝利　　　　       7   \n",
       "2  2017072901010101  20170729  17  1  1  1    1  ２歳未勝利　　　　       7   \n",
       "3  2017072901010101  20170729  17  1  1  1    1  ２歳未勝利　　　　       7   \n",
       "4  2017072901010101  20170729  17  1  1  1    1  ２歳未勝利　　　　       7   \n",
       "\n",
       "      ...     負担重量 芝適性コード ダ適性コード 性別コード 激走タイプ オッズ指数 パドック指数   単勝オッズ 着順  \\\n",
       "0     ...      540      △            牡         1.5    2.1    28.9  4   \n",
       "1     ...      530      △            牡    A1   2.0    2.3    21.5  5   \n",
       "2     ...      540      ○            牝         3.0    2.0     3.6  1   \n",
       "3     ...      530      △            牡    B1   0.0    0.0    53.2  6   \n",
       "4     ...      540      ○            牡         3.5    3.5     1.5  2   \n",
       "\n",
       "  Unnamed: 41  \n",
       "0         NaN  \n",
       "1         NaN  \n",
       "2         NaN  \n",
       "3         NaN  \n",
       "4         NaN  \n",
       "\n",
       "[5 rows x 42 columns]"
      ]
     },
     "execution_count": 22,
     "metadata": {},
     "output_type": "execute_result"
    }
   ],
   "source": [
    "data_all_df.head()"
   ]
  },
  {
   "cell_type": "markdown",
   "metadata": {},
   "source": [
    "# 年月日の分離"
   ]
  },
  {
   "cell_type": "code",
   "execution_count": 23,
   "metadata": {},
   "outputs": [],
   "source": [
    "data_yr_mm_dd_df_1 = copy.copy(data_all_df)"
   ]
  },
  {
   "cell_type": "code",
   "execution_count": 24,
   "metadata": {},
   "outputs": [],
   "source": [
    "yr_mm_dd_list = data_yr_mm_dd_df_1['年月日']"
   ]
  },
  {
   "cell_type": "code",
   "execution_count": 25,
   "metadata": {},
   "outputs": [],
   "source": [
    "year_list = []\n",
    "month_list = []\n",
    "date_list = []\n",
    "for yr_mm_dd in yr_mm_dd_list:\n",
    "    year = str(yr_mm_dd)[0:4]\n",
    "    month = str(yr_mm_dd)[4:6]\n",
    "    date = str(yr_mm_dd)[6:8]\n",
    "    \n",
    "    year_list.append(year)\n",
    "    month_list.append(month)\n",
    "    date_list.append(date)"
   ]
  },
  {
   "cell_type": "code",
   "execution_count": 26,
   "metadata": {},
   "outputs": [],
   "source": [
    "data_yr_mm_dd_df_1['年'] = year_list\n",
    "data_yr_mm_dd_df_1['月'] = month_list\n",
    "data_yr_mm_dd_df_1['日'] = date_list"
   ]
  },
  {
   "cell_type": "code",
   "execution_count": 28,
   "metadata": {},
   "outputs": [
    {
     "data": {
      "text/html": [
       "<div>\n",
       "<style scoped>\n",
       "    .dataframe tbody tr th:only-of-type {\n",
       "        vertical-align: middle;\n",
       "    }\n",
       "\n",
       "    .dataframe tbody tr th {\n",
       "        vertical-align: top;\n",
       "    }\n",
       "\n",
       "    .dataframe thead th {\n",
       "        text-align: right;\n",
       "    }\n",
       "</style>\n",
       "<table border=\"1\" class=\"dataframe\">\n",
       "  <thead>\n",
       "    <tr style=\"text-align: right;\">\n",
       "      <th></th>\n",
       "      <th>racekey</th>\n",
       "      <th>年月日</th>\n",
       "      <th>年</th>\n",
       "      <th>回</th>\n",
       "      <th>日</th>\n",
       "      <th>Ｒ</th>\n",
       "      <th>場コード</th>\n",
       "      <th>レース名９文字</th>\n",
       "      <th>グレード</th>\n",
       "      <th>頭数</th>\n",
       "      <th>...</th>\n",
       "      <th>芝適性コード</th>\n",
       "      <th>ダ適性コード</th>\n",
       "      <th>性別コード</th>\n",
       "      <th>激走タイプ</th>\n",
       "      <th>オッズ指数</th>\n",
       "      <th>パドック指数</th>\n",
       "      <th>単勝オッズ</th>\n",
       "      <th>着順</th>\n",
       "      <th>Unnamed: 41</th>\n",
       "      <th>月</th>\n",
       "    </tr>\n",
       "  </thead>\n",
       "  <tbody>\n",
       "    <tr>\n",
       "      <th>0</th>\n",
       "      <td>2017072901010101</td>\n",
       "      <td>20170729</td>\n",
       "      <td>2017</td>\n",
       "      <td>1</td>\n",
       "      <td>29</td>\n",
       "      <td>1</td>\n",
       "      <td>1</td>\n",
       "      <td>２歳未勝利</td>\n",
       "      <td></td>\n",
       "      <td>7</td>\n",
       "      <td>...</td>\n",
       "      <td>△</td>\n",
       "      <td></td>\n",
       "      <td>牡</td>\n",
       "      <td></td>\n",
       "      <td>1.5</td>\n",
       "      <td>2.1</td>\n",
       "      <td>28.9</td>\n",
       "      <td>4</td>\n",
       "      <td>NaN</td>\n",
       "      <td>07</td>\n",
       "    </tr>\n",
       "    <tr>\n",
       "      <th>1</th>\n",
       "      <td>2017072901010101</td>\n",
       "      <td>20170729</td>\n",
       "      <td>2017</td>\n",
       "      <td>1</td>\n",
       "      <td>29</td>\n",
       "      <td>1</td>\n",
       "      <td>1</td>\n",
       "      <td>２歳未勝利</td>\n",
       "      <td></td>\n",
       "      <td>7</td>\n",
       "      <td>...</td>\n",
       "      <td>△</td>\n",
       "      <td></td>\n",
       "      <td>牡</td>\n",
       "      <td>A1</td>\n",
       "      <td>2.0</td>\n",
       "      <td>2.3</td>\n",
       "      <td>21.5</td>\n",
       "      <td>5</td>\n",
       "      <td>NaN</td>\n",
       "      <td>07</td>\n",
       "    </tr>\n",
       "    <tr>\n",
       "      <th>2</th>\n",
       "      <td>2017072901010101</td>\n",
       "      <td>20170729</td>\n",
       "      <td>2017</td>\n",
       "      <td>1</td>\n",
       "      <td>29</td>\n",
       "      <td>1</td>\n",
       "      <td>1</td>\n",
       "      <td>２歳未勝利</td>\n",
       "      <td></td>\n",
       "      <td>7</td>\n",
       "      <td>...</td>\n",
       "      <td>○</td>\n",
       "      <td></td>\n",
       "      <td>牝</td>\n",
       "      <td></td>\n",
       "      <td>3.0</td>\n",
       "      <td>2.0</td>\n",
       "      <td>3.6</td>\n",
       "      <td>1</td>\n",
       "      <td>NaN</td>\n",
       "      <td>07</td>\n",
       "    </tr>\n",
       "    <tr>\n",
       "      <th>3</th>\n",
       "      <td>2017072901010101</td>\n",
       "      <td>20170729</td>\n",
       "      <td>2017</td>\n",
       "      <td>1</td>\n",
       "      <td>29</td>\n",
       "      <td>1</td>\n",
       "      <td>1</td>\n",
       "      <td>２歳未勝利</td>\n",
       "      <td></td>\n",
       "      <td>7</td>\n",
       "      <td>...</td>\n",
       "      <td>△</td>\n",
       "      <td></td>\n",
       "      <td>牡</td>\n",
       "      <td>B1</td>\n",
       "      <td>0.0</td>\n",
       "      <td>0.0</td>\n",
       "      <td>53.2</td>\n",
       "      <td>6</td>\n",
       "      <td>NaN</td>\n",
       "      <td>07</td>\n",
       "    </tr>\n",
       "    <tr>\n",
       "      <th>4</th>\n",
       "      <td>2017072901010101</td>\n",
       "      <td>20170729</td>\n",
       "      <td>2017</td>\n",
       "      <td>1</td>\n",
       "      <td>29</td>\n",
       "      <td>1</td>\n",
       "      <td>1</td>\n",
       "      <td>２歳未勝利</td>\n",
       "      <td></td>\n",
       "      <td>7</td>\n",
       "      <td>...</td>\n",
       "      <td>○</td>\n",
       "      <td></td>\n",
       "      <td>牡</td>\n",
       "      <td></td>\n",
       "      <td>3.5</td>\n",
       "      <td>3.5</td>\n",
       "      <td>1.5</td>\n",
       "      <td>2</td>\n",
       "      <td>NaN</td>\n",
       "      <td>07</td>\n",
       "    </tr>\n",
       "  </tbody>\n",
       "</table>\n",
       "<p>5 rows × 43 columns</p>\n",
       "</div>"
      ],
      "text/plain": [
       "            racekey       年月日     年  回   日  Ｒ 場コード    レース名９文字 グレード 頭数 ...  \\\n",
       "0  2017072901010101  20170729  2017  1  29  1    1  ２歳未勝利　　　　       7 ...   \n",
       "1  2017072901010101  20170729  2017  1  29  1    1  ２歳未勝利　　　　       7 ...   \n",
       "2  2017072901010101  20170729  2017  1  29  1    1  ２歳未勝利　　　　       7 ...   \n",
       "3  2017072901010101  20170729  2017  1  29  1    1  ２歳未勝利　　　　       7 ...   \n",
       "4  2017072901010101  20170729  2017  1  29  1    1  ２歳未勝利　　　　       7 ...   \n",
       "\n",
       "  芝適性コード ダ適性コード 性別コード 激走タイプ オッズ指数 パドック指数   単勝オッズ 着順 Unnamed: 41   月  \n",
       "0      △            牡         1.5    2.1    28.9  4         NaN  07  \n",
       "1      △            牡    A1   2.0    2.3    21.5  5         NaN  07  \n",
       "2      ○            牝         3.0    2.0     3.6  1         NaN  07  \n",
       "3      △            牡    B1   0.0    0.0    53.2  6         NaN  07  \n",
       "4      ○            牡         3.5    3.5     1.5  2         NaN  07  \n",
       "\n",
       "[5 rows x 43 columns]"
      ]
     },
     "execution_count": 28,
     "metadata": {},
     "output_type": "execute_result"
    }
   ],
   "source": [
    "data_yr_mm_dd_df_1.head()"
   ]
  },
  {
   "cell_type": "code",
   "execution_count": 29,
   "metadata": {},
   "outputs": [],
   "source": [
    "data_yr_mm_dd_df = copy.copy(data_yr_mm_dd_df_1)"
   ]
  },
  {
   "cell_type": "markdown",
   "metadata": {},
   "source": [
    "data_yr_mm_dd_df.to_csv('../CSV/03_year_month_date/data_yr_mm_dd.csv')"
   ]
  },
  {
   "cell_type": "markdown",
   "metadata": {},
   "source": [
    "# 人気順位算出"
   ]
  },
  {
   "cell_type": "code",
   "execution_count": 30,
   "metadata": {},
   "outputs": [],
   "source": [
    "data_popularity_df_1 = copy.copy(data_yr_mm_dd_df)"
   ]
  },
  {
   "cell_type": "code",
   "execution_count": null,
   "metadata": {},
   "outputs": [],
   "source": [
    "rank_list = []\n",
    "rank_df = pd.DataFrame(index=[], columns=['人気順位'])\n",
    "for racekey in racekey_list:\n",
    "    rank_series = data_popularity_df_1[data_popularity_df_1['racekey'] == racekey]['単勝オッズ'].rank()\n",
    "    rank = list(rank_series.values)\n",
    "    rank_list.extend(rank)    "
   ]
  },
  {
   "cell_type": "code",
   "execution_count": null,
   "metadata": {},
   "outputs": [],
   "source": [
    "data_popularity_df_1['人気順位'] = rank_list"
   ]
  },
  {
   "cell_type": "code",
   "execution_count": 65,
   "metadata": {},
   "outputs": [],
   "source": [
    "racekey = racekey_list[0]"
   ]
  },
  {
   "cell_type": "code",
   "execution_count": 66,
   "metadata": {},
   "outputs": [],
   "source": [
    "data_popularity_df = copy.copy(data_popularity_df_1)"
   ]
  },
  {
   "cell_type": "code",
   "execution_count": 67,
   "metadata": {},
   "outputs": [],
   "source": [
    "data_popularity_df.to_csv('../CSV/04_polularity/data_popularity.csv')"
   ]
  },
  {
   "cell_type": "markdown",
   "metadata": {},
   "source": [
    "# スピアマン順位相関係数計算"
   ]
  },
  {
   "cell_type": "code",
   "execution_count": 32,
   "metadata": {},
   "outputs": [
    {
     "name": "stderr",
     "output_type": "stream",
     "text": [
      "/anaconda3/envs/python36_xgboost/lib/python3.6/site-packages/IPython/core/interactiveshell.py:2785: DtypeWarning: Columns (2,3,6,7,10,12,13,14,15,20,25,26,27,30) have mixed types. Specify dtype option on import or set low_memory=False.\n",
      "  interactivity=interactivity, compiler=compiler, result=result)\n"
     ]
    }
   ],
   "source": [
    "data_spearman_df_1 = pd.read_csv('../CSV/04_polularity/data_popularity.csv')"
   ]
  },
  {
   "cell_type": "markdown",
   "metadata": {},
   "source": [
    "data_spearman_df_1 = copy.copy(data_popularity_df)"
   ]
  },
  {
   "cell_type": "markdown",
   "metadata": {},
   "source": [
    "## 計算"
   ]
  },
  {
   "cell_type": "code",
   "execution_count": 33,
   "metadata": {},
   "outputs": [],
   "source": [
    "data_rank_array = data_spearman_df_1[data_spearman_df_1['racekey'] == racekey].loc[:, ['人気順位']].T.values[0]\n",
    "data_act_array = data_spearman_df_1[data_spearman_df_1['racekey'] == racekey].loc[:, ['着順']].T.values[0]"
   ]
  },
  {
   "cell_type": "code",
   "execution_count": 34,
   "metadata": {},
   "outputs": [
    {
     "data": {
      "text/plain": [
       "array([8., 6., 7., 1., 4., 9., 5., 2., 3.])"
      ]
     },
     "execution_count": 34,
     "metadata": {},
     "output_type": "execute_result"
    }
   ],
   "source": [
    "data_rank_array"
   ]
  },
  {
   "cell_type": "code",
   "execution_count": 35,
   "metadata": {},
   "outputs": [
    {
     "data": {
      "text/plain": [
       "array([3., 7., 1., 2., 6., 9., 5., 8., 4.])"
      ]
     },
     "execution_count": 35,
     "metadata": {},
     "output_type": "execute_result"
    }
   ],
   "source": [
    "data_act_array"
   ]
  },
  {
   "cell_type": "code",
   "execution_count": 36,
   "metadata": {},
   "outputs": [],
   "source": [
    "def spearman(popular_array, rank_array):  \n",
    "    N = len(popular_array)\n",
    "    ans = 1 - 6 * (sum((popular_array - rank_array) ** 2)) / float(N**3 - N)\n",
    "    return ans"
   ]
  },
  {
   "cell_type": "code",
   "execution_count": null,
   "metadata": {},
   "outputs": [],
   "source": [
    "#def spearman(array_a, array_b):\n",
    "spearman_list = []\n",
    "for racekey in racekey_list:\n",
    "    \n",
    "    data_rank_array = data_spearman_df_1[data_spearman_df_1['racekey'] == racekey].loc[:, ['人気順位']].T.values[0]\n",
    "    data_act_array = data_spearman_df_1[data_spearman_df_1['racekey'] == racekey].loc[:, ['着順']].T.values[0]\n",
    "    \n",
    "    ans = spearman(data_rank_array, data_act_array)\n",
    "    spearman_list.append(ans)\n",
    "\n",
    "#return ans"
   ]
  },
  {
   "cell_type": "code",
   "execution_count": 126,
   "metadata": {},
   "outputs": [],
   "source": [
    "racekey_array = np.array(racekey_list).astype('int64')\n",
    "spearman_array = np.array(spearman_list)"
   ]
  },
  {
   "cell_type": "code",
   "execution_count": 131,
   "metadata": {},
   "outputs": [],
   "source": [
    "spearman_corr_df = pd.DataFrame([racekey_array, spearman_array], index=['racekey', 'spearman_corr']).T\n",
    "spearman_corr_df['racekey'] = racekey_array"
   ]
  },
  {
   "cell_type": "markdown",
   "metadata": {},
   "source": [
    "spearman_corr_df.to_csv('../CSV/99_master/m_spearman.csv', index=False)"
   ]
  },
  {
   "cell_type": "code",
   "execution_count": 138,
   "metadata": {},
   "outputs": [],
   "source": [
    "data_spearman_df_1['racekey'] = data_spearman_df_1['racekey'].astype('int64')"
   ]
  },
  {
   "cell_type": "code",
   "execution_count": 139,
   "metadata": {},
   "outputs": [],
   "source": [
    "data_spearman_df_2 = pd.merge(data_spearman_df_1, spearman_corr_df, on=['racekey'], how='inner')"
   ]
  },
  {
   "cell_type": "code",
   "execution_count": 140,
   "metadata": {},
   "outputs": [],
   "source": [
    "data_spearman_df_3 = data_spearman_df_2[~np.isnan(data_spearman_df_2['spearman_corr'])]"
   ]
  },
  {
   "cell_type": "code",
   "execution_count": 142,
   "metadata": {},
   "outputs": [
    {
     "data": {
      "text/plain": [
       "Index(['racekey', '年月日', '年', '回', '日', 'Ｒ', '場コード', 'レース名９文字', 'グレード', '頭数',\n",
       "       '距離', '芝ダ障害コード', '右左', '内外', '重量', '馬場状態コード', '天候コード', '馬番', '馬名',\n",
       "       '血統登録番号', '脚質', '距離適性', '上昇度', 'ローテーション', '人気指数', '調教指数', '激走指数',\n",
       "       '重適正コード', 'クラスコード', '馬齢', '馬体重', '馬体重増減', '負担重量', '芝適性コード', 'ダ適性コード',\n",
       "       '性別コード', '激走タイプ', 'オッズ指数', 'パドック指数', '単勝オッズ', '着順', '月', '人気順位',\n",
       "       'spearman_corr'],\n",
       "      dtype='object')"
      ]
     },
     "execution_count": 142,
     "metadata": {},
     "output_type": "execute_result"
    }
   ],
   "source": [
    "data_spearman_df_3.columns"
   ]
  },
  {
   "cell_type": "markdown",
   "metadata": {},
   "source": [
    "## ヒストグラム"
   ]
  },
  {
   "cell_type": "code",
   "execution_count": 143,
   "metadata": {},
   "outputs": [],
   "source": [
    "spearman_array_1 = data_spearman_df_3['spearman_corr'].values\n",
    "spearman_array = spearman_array_1[~np.isnan(spearman_array_1)]"
   ]
  },
  {
   "cell_type": "code",
   "execution_count": 144,
   "metadata": {},
   "outputs": [
    {
     "data": {
      "text/plain": [
       "array([0.87647059, 0.87647059, 0.87647059, ..., 0.50955882, 0.50955882,\n",
       "       0.50955882])"
      ]
     },
     "execution_count": 144,
     "metadata": {},
     "output_type": "execute_result"
    }
   ],
   "source": [
    "spearman_array"
   ]
  },
  {
   "cell_type": "code",
   "execution_count": 146,
   "metadata": {},
   "outputs": [],
   "source": [
    "data_spearman_df = copy.copy(data_spearman_df_3)"
   ]
  },
  {
   "cell_type": "code",
   "execution_count": 147,
   "metadata": {},
   "outputs": [],
   "source": [
    "data_spearman_df.to_csv('../CSV/05_spearman_corr/data_spearman.csv', index=False)"
   ]
  },
  {
   "cell_type": "markdown",
   "metadata": {},
   "source": [
    "# One hot encoding"
   ]
  },
  {
   "cell_type": "markdown",
   "metadata": {},
   "source": [
    "ココから"
   ]
  },
  {
   "cell_type": "code",
   "execution_count": 40,
   "metadata": {},
   "outputs": [
    {
     "name": "stderr",
     "output_type": "stream",
     "text": [
      "/anaconda3/envs/python36_xgboost/lib/python3.6/site-packages/IPython/core/interactiveshell.py:2785: DtypeWarning: Columns (25,29) have mixed types. Specify dtype option on import or set low_memory=False.\n",
      "  interactivity=interactivity, compiler=compiler, result=result)\n"
     ]
    }
   ],
   "source": [
    "data_onehot_df_1 = pd.read_csv('../CSV/05_spearman_corr/data_spearman.csv')"
   ]
  },
  {
   "cell_type": "markdown",
   "metadata": {},
   "source": [
    "data_onehot_df_1 = copy.copy(data_spearman_df)"
   ]
  },
  {
   "cell_type": "markdown",
   "metadata": {},
   "source": [
    "## 必要な説明変数の選定"
   ]
  },
  {
   "cell_type": "code",
   "execution_count": 41,
   "metadata": {},
   "outputs": [
    {
     "data": {
      "text/plain": [
       "Index(['racekey', '年月日', '年', '回', '日', 'Ｒ', '場コード', 'レース名９文字', 'グレード', '頭数',\n",
       "       '距離', '芝ダ障害コード', '右左', '内外', '重量', '馬場状態コード', '天候コード', '馬番', '馬名',\n",
       "       '血統登録番号', '脚質', '距離適性', '上昇度', 'ローテーション', '人気指数', '調教指数', '激走指数',\n",
       "       '重適正コード', 'クラスコード', '馬齢', '馬体重', '馬体重増減', '負担重量', '芝適性コード', 'ダ適性コード',\n",
       "       '性別コード', '激走タイプ', 'オッズ指数', 'パドック指数', '単勝オッズ', '着順', '月', '人気順位',\n",
       "       'spearman_corr'],\n",
       "      dtype='object')"
      ]
     },
     "execution_count": 41,
     "metadata": {},
     "output_type": "execute_result"
    }
   ],
   "source": [
    "data_onehot_df_1.columns"
   ]
  },
  {
   "cell_type": "code",
   "execution_count": 42,
   "metadata": {},
   "outputs": [],
   "source": [
    "objective = 'spearman_corr'"
   ]
  },
  {
   "cell_type": "code",
   "execution_count": 63,
   "metadata": {},
   "outputs": [],
   "source": [
    "# racekeyと時系列データ\n",
    "explanatory_prim_list = ['racekey', '年', '月', '日', 'Ｒ',]"
   ]
  },
  {
   "cell_type": "code",
   "execution_count": 64,
   "metadata": {},
   "outputs": [],
   "source": [
    "# 量的変数\n",
    "expl_qty_list = ['頭数','距離'] "
   ]
  },
  {
   "cell_type": "code",
   "execution_count": 65,
   "metadata": {},
   "outputs": [],
   "source": [
    "# 整数型のカテゴリー変数\n",
    "ctgry_int_list = ['場コード', 'グレード', '芝ダ障害コード', '重量', '馬場状態コード', '天候コード']"
   ]
  },
  {
   "cell_type": "code",
   "execution_count": 66,
   "metadata": {},
   "outputs": [],
   "source": [
    "# バイナリー型のカテゴリー変数\n",
    "ctgry_binary_list = ['右左', '内外']"
   ]
  },
  {
   "cell_type": "code",
   "execution_count": 67,
   "metadata": {},
   "outputs": [],
   "source": [
    "# 文字列のカテゴリー変数\n",
    "ctgry_str_list = []"
   ]
  },
  {
   "cell_type": "code",
   "execution_count": 68,
   "metadata": {},
   "outputs": [],
   "source": [
    "objective_list = [objective]"
   ]
  },
  {
   "cell_type": "code",
   "execution_count": 69,
   "metadata": {},
   "outputs": [],
   "source": [
    "# 使用する変数\n",
    "data_col = explanatory_prim_list + expl_qty_list + ctgry_int_list + ctgry_binary_list + objective_list"
   ]
  },
  {
   "cell_type": "code",
   "execution_count": 70,
   "metadata": {},
   "outputs": [
    {
     "data": {
      "text/plain": [
       "['racekey',\n",
       " '年',\n",
       " '月',\n",
       " '日',\n",
       " 'Ｒ',\n",
       " '頭数',\n",
       " '距離',\n",
       " '場コード',\n",
       " 'グレード',\n",
       " '芝ダ障害コード',\n",
       " '重量',\n",
       " '馬場状態コード',\n",
       " '天候コード',\n",
       " '右左',\n",
       " '内外',\n",
       " 'spearman_corr']"
      ]
     },
     "execution_count": 70,
     "metadata": {},
     "output_type": "execute_result"
    }
   ],
   "source": [
    "data_col"
   ]
  },
  {
   "cell_type": "markdown",
   "metadata": {},
   "source": [
    "コース属性に絞る\n",
    "racekeyは入れる(後で落として再結合)"
   ]
  },
  {
   "cell_type": "code",
   "execution_count": 71,
   "metadata": {},
   "outputs": [
    {
     "data": {
      "text/plain": [
       "Index(['racekey', '年月日', '年', '回', '日', 'Ｒ', '場コード', 'レース名９文字', 'グレード', '頭数',\n",
       "       '距離', '芝ダ障害コード', '右左', '内外', '重量', '馬場状態コード', '天候コード', '馬番', '馬名',\n",
       "       '血統登録番号', '脚質', '距離適性', '上昇度', 'ローテーション', '人気指数', '調教指数', '激走指数',\n",
       "       '重適正コード', 'クラスコード', '馬齢', '馬体重', '馬体重増減', '負担重量', '芝適性コード', 'ダ適性コード',\n",
       "       '性別コード', '激走タイプ', 'オッズ指数', 'パドック指数', '単勝オッズ', '着順', '月', '人気順位',\n",
       "       'spearman_corr'],\n",
       "      dtype='object')"
      ]
     },
     "execution_count": 71,
     "metadata": {},
     "output_type": "execute_result"
    }
   ],
   "source": [
    "data_onehot_df_1.columns"
   ]
  },
  {
   "cell_type": "code",
   "execution_count": 72,
   "metadata": {},
   "outputs": [],
   "source": [
    "data_onehot_df_2 = data_onehot_df_1.loc[:, data_col]"
   ]
  },
  {
   "cell_type": "code",
   "execution_count": 73,
   "metadata": {},
   "outputs": [
    {
     "data": {
      "text/plain": [
       "233003"
      ]
     },
     "execution_count": 73,
     "metadata": {},
     "output_type": "execute_result"
    }
   ],
   "source": [
    "len(data_onehot_df_2)"
   ]
  },
  {
   "cell_type": "code",
   "execution_count": 74,
   "metadata": {},
   "outputs": [],
   "source": [
    "data_onehot_df_3 = data_onehot_df_2.drop_duplicates().reset_index(drop=True)"
   ]
  },
  {
   "cell_type": "code",
   "execution_count": 75,
   "metadata": {},
   "outputs": [
    {
     "data": {
      "text/plain": [
       "Index(['racekey', '年', '月', '日', 'Ｒ', '頭数', '距離', '場コード', 'グレード', '芝ダ障害コード',\n",
       "       '重量', '馬場状態コード', '天候コード', '右左', '内外', 'spearman_corr'],\n",
       "      dtype='object')"
      ]
     },
     "execution_count": 75,
     "metadata": {},
     "output_type": "execute_result"
    }
   ],
   "source": [
    "data_onehot_df_3.columns"
   ]
  },
  {
   "cell_type": "code",
   "execution_count": 76,
   "metadata": {},
   "outputs": [
    {
     "data": {
      "text/plain": [
       "array([ 6,  8,  7,  5, 10,  9,  3,  4,  2,  1])"
      ]
     },
     "execution_count": 76,
     "metadata": {},
     "output_type": "execute_result"
    }
   ],
   "source": [
    "data_onehot_df_3['場コード'].unique()"
   ]
  },
  {
   "cell_type": "code",
   "execution_count": 77,
   "metadata": {},
   "outputs": [
    {
     "name": "stderr",
     "output_type": "stream",
     "text": [
      "/anaconda3/envs/python36_xgboost/lib/python3.6/site-packages/ipykernel_launcher.py:1: SettingWithCopyWarning: \n",
      "A value is trying to be set on a copy of a slice from a DataFrame\n",
      "\n",
      "See the caveats in the documentation: http://pandas.pydata.org/pandas-docs/stable/indexing.html#indexing-view-versus-copy\n",
      "  \"\"\"Entry point for launching an IPython kernel.\n"
     ]
    }
   ],
   "source": [
    "data_onehot_df_3['グレード'][data_onehot_df_3['グレード'] == ' '] = 0"
   ]
  },
  {
   "cell_type": "code",
   "execution_count": 78,
   "metadata": {},
   "outputs": [
    {
     "data": {
      "text/plain": [
       "array([3, 4, 2, 1])"
      ]
     },
     "execution_count": 78,
     "metadata": {},
     "output_type": "execute_result"
    }
   ],
   "source": [
    "data_onehot_df_3['重量'].unique()"
   ]
  },
  {
   "cell_type": "code",
   "execution_count": 79,
   "metadata": {},
   "outputs": [],
   "source": [
    "ctgry_list = ctgry_int_list + ctgry_str_list"
   ]
  },
  {
   "cell_type": "code",
   "execution_count": 80,
   "metadata": {},
   "outputs": [],
   "source": [
    "ctgry_int_df = data_onehot_df_3.loc[:, ctgry_int_list].astype('int64')"
   ]
  },
  {
   "cell_type": "code",
   "execution_count": 81,
   "metadata": {},
   "outputs": [],
   "source": [
    "ctgry_str_df = data_onehot_df_3.loc[:, ctgry_str_list].astype(str)"
   ]
  },
  {
   "cell_type": "code",
   "execution_count": 82,
   "metadata": {},
   "outputs": [],
   "source": [
    "ctgry_int_str_df = pd.concat([ctgry_int_df, ctgry_str_df], axis=1)"
   ]
  },
  {
   "cell_type": "code",
   "execution_count": 83,
   "metadata": {},
   "outputs": [
    {
     "name": "stdout",
     "output_type": "stream",
     "text": [
      "場コード\n",
      "グレード\n",
      "芝ダ障害コード\n",
      "重量\n",
      "馬場状態コード\n",
      "天候コード\n"
     ]
    }
   ],
   "source": [
    "ctgry_col_all = []\n",
    "ctgry_df = pd.DataFrame(index=[i for i in range(len(data_onehot_df_3))])\n",
    "for ctgry in ctgry_list:\n",
    "    print(ctgry)\n",
    "    ctgry_unique_list = list(ctgry_int_str_df[ctgry].unique().astype(str))\n",
    "    ctgry_unique_list.sort()\n",
    "    ctgry_array = ctgry_int_str_df[ctgry].values\n",
    "    ctgry_str = np.repeat(ctgry+'_', len(ctgry_unique_list)).astype(str)\n",
    "    ctgry_col = np.core.defchararray.add(ctgry_str, np.array(ctgry_unique_list))\n",
    "    \n",
    "    ctgry_col_all.append(ctgry_col)\n",
    "    \n",
    "    ctgry_df_1 = pd.get_dummies(ctgry_array)\n",
    "    ctgry_df_1.columns = ctgry_col\n",
    "    \n",
    "    ctgry_df = pd.concat([ctgry_df, ctgry_df_1], axis=1)"
   ]
  },
  {
   "cell_type": "code",
   "execution_count": 84,
   "metadata": {},
   "outputs": [
    {
     "data": {
      "text/plain": [
       "6"
      ]
     },
     "execution_count": 84,
     "metadata": {},
     "output_type": "execute_result"
    }
   ],
   "source": [
    "len(np.array(ctgry_unique_list))"
   ]
  },
  {
   "cell_type": "code",
   "execution_count": 85,
   "metadata": {},
   "outputs": [
    {
     "data": {
      "text/plain": [
       "array(['天候コード_', '天候コード_', '天候コード_', '天候コード_', '天候コード_', '天候コード_'],\n",
       "      dtype='<U6')"
      ]
     },
     "execution_count": 85,
     "metadata": {},
     "output_type": "execute_result"
    }
   ],
   "source": [
    "ctgry_str"
   ]
  },
  {
   "cell_type": "markdown",
   "metadata": {},
   "source": [
    "## 目的変数"
   ]
  },
  {
   "cell_type": "code",
   "execution_count": 86,
   "metadata": {},
   "outputs": [],
   "source": [
    "non_ctgry_df = data_onehot_df_3.drop(ctgry_list + [objective], axis=1).astype('int64')"
   ]
  },
  {
   "cell_type": "code",
   "execution_count": 87,
   "metadata": {},
   "outputs": [],
   "source": [
    "data_onehot_df_4 = pd.concat([non_ctgry_df, ctgry_df], axis=1)"
   ]
  },
  {
   "cell_type": "code",
   "execution_count": 88,
   "metadata": {},
   "outputs": [],
   "source": [
    "data_onehot_df_4[objective] = data_onehot_df_3[objective]"
   ]
  },
  {
   "cell_type": "code",
   "execution_count": 89,
   "metadata": {},
   "outputs": [],
   "source": [
    "data_onehot_df = copy.copy(data_onehot_df_4)"
   ]
  },
  {
   "cell_type": "code",
   "execution_count": 91,
   "metadata": {},
   "outputs": [
    {
     "data": {
      "text/html": [
       "<div>\n",
       "<style scoped>\n",
       "    .dataframe tbody tr th:only-of-type {\n",
       "        vertical-align: middle;\n",
       "    }\n",
       "\n",
       "    .dataframe tbody tr th {\n",
       "        vertical-align: top;\n",
       "    }\n",
       "\n",
       "    .dataframe thead th {\n",
       "        text-align: right;\n",
       "    }\n",
       "</style>\n",
       "<table border=\"1\" class=\"dataframe\">\n",
       "  <thead>\n",
       "    <tr style=\"text-align: right;\">\n",
       "      <th></th>\n",
       "      <th>racekey</th>\n",
       "      <th>年</th>\n",
       "      <th>月</th>\n",
       "      <th>日</th>\n",
       "      <th>Ｒ</th>\n",
       "      <th>頭数</th>\n",
       "      <th>距離</th>\n",
       "      <th>右左</th>\n",
       "      <th>内外</th>\n",
       "      <th>場コード_1</th>\n",
       "      <th>...</th>\n",
       "      <th>馬場状態コード_20</th>\n",
       "      <th>馬場状態コード_30</th>\n",
       "      <th>馬場状態コード_40</th>\n",
       "      <th>天候コード_1</th>\n",
       "      <th>天候コード_2</th>\n",
       "      <th>天候コード_3</th>\n",
       "      <th>天候コード_4</th>\n",
       "      <th>天候コード_5</th>\n",
       "      <th>天候コード_6</th>\n",
       "      <th>spearman_corr</th>\n",
       "    </tr>\n",
       "  </thead>\n",
       "  <tbody>\n",
       "    <tr>\n",
       "      <th>0</th>\n",
       "      <td>2014010506010101</td>\n",
       "      <td>2014</td>\n",
       "      <td>1</td>\n",
       "      <td>5</td>\n",
       "      <td>1</td>\n",
       "      <td>16</td>\n",
       "      <td>1200</td>\n",
       "      <td>1</td>\n",
       "      <td>1</td>\n",
       "      <td>0</td>\n",
       "      <td>...</td>\n",
       "      <td>0</td>\n",
       "      <td>0</td>\n",
       "      <td>0</td>\n",
       "      <td>1</td>\n",
       "      <td>0</td>\n",
       "      <td>0</td>\n",
       "      <td>0</td>\n",
       "      <td>0</td>\n",
       "      <td>0</td>\n",
       "      <td>0.876471</td>\n",
       "    </tr>\n",
       "    <tr>\n",
       "      <th>1</th>\n",
       "      <td>2014010506010102</td>\n",
       "      <td>2014</td>\n",
       "      <td>1</td>\n",
       "      <td>5</td>\n",
       "      <td>2</td>\n",
       "      <td>16</td>\n",
       "      <td>1800</td>\n",
       "      <td>1</td>\n",
       "      <td>1</td>\n",
       "      <td>0</td>\n",
       "      <td>...</td>\n",
       "      <td>0</td>\n",
       "      <td>0</td>\n",
       "      <td>0</td>\n",
       "      <td>1</td>\n",
       "      <td>0</td>\n",
       "      <td>0</td>\n",
       "      <td>0</td>\n",
       "      <td>0</td>\n",
       "      <td>0</td>\n",
       "      <td>0.732353</td>\n",
       "    </tr>\n",
       "    <tr>\n",
       "      <th>2</th>\n",
       "      <td>2014010506010103</td>\n",
       "      <td>2014</td>\n",
       "      <td>1</td>\n",
       "      <td>5</td>\n",
       "      <td>3</td>\n",
       "      <td>15</td>\n",
       "      <td>1200</td>\n",
       "      <td>1</td>\n",
       "      <td>1</td>\n",
       "      <td>0</td>\n",
       "      <td>...</td>\n",
       "      <td>0</td>\n",
       "      <td>0</td>\n",
       "      <td>0</td>\n",
       "      <td>1</td>\n",
       "      <td>0</td>\n",
       "      <td>0</td>\n",
       "      <td>0</td>\n",
       "      <td>0</td>\n",
       "      <td>0</td>\n",
       "      <td>0.663393</td>\n",
       "    </tr>\n",
       "    <tr>\n",
       "      <th>3</th>\n",
       "      <td>2014010506010104</td>\n",
       "      <td>2014</td>\n",
       "      <td>1</td>\n",
       "      <td>5</td>\n",
       "      <td>4</td>\n",
       "      <td>16</td>\n",
       "      <td>1200</td>\n",
       "      <td>1</td>\n",
       "      <td>1</td>\n",
       "      <td>0</td>\n",
       "      <td>...</td>\n",
       "      <td>0</td>\n",
       "      <td>0</td>\n",
       "      <td>0</td>\n",
       "      <td>1</td>\n",
       "      <td>0</td>\n",
       "      <td>0</td>\n",
       "      <td>0</td>\n",
       "      <td>0</td>\n",
       "      <td>0</td>\n",
       "      <td>0.685294</td>\n",
       "    </tr>\n",
       "    <tr>\n",
       "      <th>4</th>\n",
       "      <td>2014010506010105</td>\n",
       "      <td>2014</td>\n",
       "      <td>1</td>\n",
       "      <td>5</td>\n",
       "      <td>5</td>\n",
       "      <td>16</td>\n",
       "      <td>2000</td>\n",
       "      <td>1</td>\n",
       "      <td>1</td>\n",
       "      <td>0</td>\n",
       "      <td>...</td>\n",
       "      <td>0</td>\n",
       "      <td>0</td>\n",
       "      <td>0</td>\n",
       "      <td>1</td>\n",
       "      <td>0</td>\n",
       "      <td>0</td>\n",
       "      <td>0</td>\n",
       "      <td>0</td>\n",
       "      <td>0</td>\n",
       "      <td>0.832353</td>\n",
       "    </tr>\n",
       "  </tbody>\n",
       "</table>\n",
       "<p>5 rows × 43 columns</p>\n",
       "</div>"
      ],
      "text/plain": [
       "            racekey     年  月  日  Ｒ  頭数    距離  右左  内外  場コード_1      ...        \\\n",
       "0  2014010506010101  2014  1  5  1  16  1200   1   1       0      ...         \n",
       "1  2014010506010102  2014  1  5  2  16  1800   1   1       0      ...         \n",
       "2  2014010506010103  2014  1  5  3  15  1200   1   1       0      ...         \n",
       "3  2014010506010104  2014  1  5  4  16  1200   1   1       0      ...         \n",
       "4  2014010506010105  2014  1  5  5  16  2000   1   1       0      ...         \n",
       "\n",
       "   馬場状態コード_20  馬場状態コード_30  馬場状態コード_40  天候コード_1  天候コード_2  天候コード_3  天候コード_4  \\\n",
       "0           0           0           0        1        0        0        0   \n",
       "1           0           0           0        1        0        0        0   \n",
       "2           0           0           0        1        0        0        0   \n",
       "3           0           0           0        1        0        0        0   \n",
       "4           0           0           0        1        0        0        0   \n",
       "\n",
       "   天候コード_5  天候コード_6  spearman_corr  \n",
       "0        0        0       0.876471  \n",
       "1        0        0       0.732353  \n",
       "2        0        0       0.663393  \n",
       "3        0        0       0.685294  \n",
       "4        0        0       0.832353  \n",
       "\n",
       "[5 rows x 43 columns]"
      ]
     },
     "execution_count": 91,
     "metadata": {},
     "output_type": "execute_result"
    }
   ],
   "source": [
    "data_onehot_df.head()"
   ]
  },
  {
   "cell_type": "markdown",
   "metadata": {},
   "source": [
    "data_onehot_df.to_csv('../CSV/06_onehot/data_onehot.csv', index=False)"
   ]
  },
  {
   "cell_type": "markdown",
   "metadata": {},
   "source": [
    "# データの分割"
   ]
  },
  {
   "cell_type": "markdown",
   "metadata": {},
   "source": [
    "data_train_test_df_1 = pd.read_csv('../CSV/data_onehot.csv')"
   ]
  },
  {
   "cell_type": "code",
   "execution_count": 92,
   "metadata": {},
   "outputs": [],
   "source": [
    "data_train_test_df_1 = copy.copy(data_onehot_df)"
   ]
  },
  {
   "cell_type": "markdown",
   "metadata": {},
   "source": [
    "## 学習とテストの年に絞る"
   ]
  },
  {
   "cell_type": "code",
   "execution_count": 93,
   "metadata": {},
   "outputs": [],
   "source": [
    "racekey_df = pd.DataFrame(data_train_test_df_1['racekey'])"
   ]
  },
  {
   "cell_type": "code",
   "execution_count": 94,
   "metadata": {},
   "outputs": [],
   "source": [
    "data_train_test_df_2 = data_train_test_df_1[data_train_test_df_1['年'] != 2018]\n",
    "data_train_test_df_2 = data_train_test_df_2.drop(['racekey'], axis=1)"
   ]
  },
  {
   "cell_type": "code",
   "execution_count": 95,
   "metadata": {},
   "outputs": [],
   "source": [
    "year_list = list(data_train_test_df_2['年'].unique())"
   ]
  },
  {
   "cell_type": "code",
   "execution_count": 96,
   "metadata": {},
   "outputs": [],
   "source": [
    "year_pred = 2017"
   ]
  },
  {
   "cell_type": "markdown",
   "metadata": {},
   "source": [
    "## 学習データ"
   ]
  },
  {
   "cell_type": "code",
   "execution_count": 97,
   "metadata": {},
   "outputs": [],
   "source": [
    "data_train_df_3 = data_train_test_df_2.query('年 != {}'.format(year_pred))"
   ]
  },
  {
   "cell_type": "code",
   "execution_count": 98,
   "metadata": {},
   "outputs": [],
   "source": [
    "X_train_validate = data_train_df_3.drop(objective, axis=1).astype(int)"
   ]
  },
  {
   "cell_type": "code",
   "execution_count": 99,
   "metadata": {},
   "outputs": [],
   "source": [
    "y_train_validate = data_train_df_3[objective]"
   ]
  },
  {
   "cell_type": "code",
   "execution_count": 100,
   "metadata": {},
   "outputs": [],
   "source": [
    "(X_train, X_validation,\n",
    " y_train, y_validation) = train_test_split(\n",
    "    X_train_validate, y_train_validate, test_size=0.3, random_state=0,\n",
    ")"
   ]
  },
  {
   "cell_type": "markdown",
   "metadata": {},
   "source": [
    "## テストデータ"
   ]
  },
  {
   "cell_type": "code",
   "execution_count": 101,
   "metadata": {},
   "outputs": [],
   "source": [
    "test_df = data_train_test_df_2[data_train_test_df_2['年'] == year_pred]"
   ]
  },
  {
   "cell_type": "code",
   "execution_count": 102,
   "metadata": {},
   "outputs": [],
   "source": [
    "X_test = test_df.drop(objective, axis=1)"
   ]
  },
  {
   "cell_type": "code",
   "execution_count": 103,
   "metadata": {},
   "outputs": [],
   "source": [
    "col = X_test.columns"
   ]
  },
  {
   "cell_type": "code",
   "execution_count": 104,
   "metadata": {},
   "outputs": [
    {
     "data": {
      "text/plain": [
       "41"
      ]
     },
     "execution_count": 104,
     "metadata": {},
     "output_type": "execute_result"
    }
   ],
   "source": [
    "len(col)"
   ]
  },
  {
   "cell_type": "code",
   "execution_count": 105,
   "metadata": {},
   "outputs": [
    {
     "data": {
      "text/plain": [
       "Index([], dtype='object')"
      ]
     },
     "execution_count": 105,
     "metadata": {},
     "output_type": "execute_result"
    }
   ],
   "source": [
    "col[col.duplicated()]"
   ]
  },
  {
   "cell_type": "code",
   "execution_count": 106,
   "metadata": {},
   "outputs": [],
   "source": [
    "y_test = test_df[objective]"
   ]
  },
  {
   "cell_type": "markdown",
   "metadata": {},
   "source": [
    "# 最適化"
   ]
  },
  {
   "cell_type": "code",
   "execution_count": 107,
   "metadata": {},
   "outputs": [],
   "source": [
    "param_list = ['eta', 'max_depth', 'max_dhild_weight', 'subsampling', 'colsample_bytree', 'lambda']"
   ]
  },
  {
   "cell_type": "code",
   "execution_count": 108,
   "metadata": {},
   "outputs": [],
   "source": [
    "param = [(0.01, 0.4), (2, 3), (0.1, 1), (0.1, 1), (0.5, 1), (0.1, 1)]"
   ]
  },
  {
   "cell_type": "code",
   "execution_count": 327,
   "metadata": {},
   "outputs": [],
   "source": [
    "def f(param):\n",
    "    regressor = xgb.XGBRegressor(eta=param[0], max_depth=param[1], \n",
    "                                 ax_child_weight=param[2],subsample=param[3], \n",
    "                                 colsample_bytree=param[4], _lambda=param[5],\n",
    "                                 num_round=150, n_estimators=500, silent=1)\n",
    "    regressor.fit(X_train, y_train, eval_set = [(X_train, y_train), (X_validation, y_validation)], verbose=False)\n",
    "    \n",
    "    eval_result = regressor.evals_result()\n",
    "    rmse_train = eval_result['validation_1']['rmse'][-1]\n",
    "        \n",
    "    return rmse_train"
   ]
  },
  {
   "cell_type": "code",
   "execution_count": 328,
   "metadata": {},
   "outputs": [],
   "source": [
    "res = gp_minimize(f, param, acq_func=\"EI\",n_calls=100)"
   ]
  },
  {
   "cell_type": "code",
   "execution_count": 329,
   "metadata": {},
   "outputs": [],
   "source": [
    "param_best=res['x']"
   ]
  },
  {
   "cell_type": "code",
   "execution_count": 330,
   "metadata": {},
   "outputs": [],
   "source": [
    "rmse_best = res['fun']"
   ]
  },
  {
   "cell_type": "code",
   "execution_count": 331,
   "metadata": {},
   "outputs": [
    {
     "data": {
      "text/html": [
       "<div>\n",
       "<style scoped>\n",
       "    .dataframe tbody tr th:only-of-type {\n",
       "        vertical-align: middle;\n",
       "    }\n",
       "\n",
       "    .dataframe tbody tr th {\n",
       "        vertical-align: top;\n",
       "    }\n",
       "\n",
       "    .dataframe thead th {\n",
       "        text-align: right;\n",
       "    }\n",
       "</style>\n",
       "<table border=\"1\" class=\"dataframe\">\n",
       "  <thead>\n",
       "    <tr style=\"text-align: right;\">\n",
       "      <th></th>\n",
       "      <th>0</th>\n",
       "    </tr>\n",
       "  </thead>\n",
       "  <tbody>\n",
       "    <tr>\n",
       "      <th>eta</th>\n",
       "      <td>0.033147</td>\n",
       "    </tr>\n",
       "    <tr>\n",
       "      <th>max_depth</th>\n",
       "      <td>2.000000</td>\n",
       "    </tr>\n",
       "    <tr>\n",
       "      <th>max_dhild_weight</th>\n",
       "      <td>0.459161</td>\n",
       "    </tr>\n",
       "    <tr>\n",
       "      <th>subsampling</th>\n",
       "      <td>0.998696</td>\n",
       "    </tr>\n",
       "    <tr>\n",
       "      <th>colsample_bytree</th>\n",
       "      <td>0.995231</td>\n",
       "    </tr>\n",
       "    <tr>\n",
       "      <th>lambda</th>\n",
       "      <td>0.980404</td>\n",
       "    </tr>\n",
       "  </tbody>\n",
       "</table>\n",
       "</div>"
      ],
      "text/plain": [
       "                         0\n",
       "eta               0.033147\n",
       "max_depth         2.000000\n",
       "max_dhild_weight  0.459161\n",
       "subsampling       0.998696\n",
       "colsample_bytree  0.995231\n",
       "lambda            0.980404"
      ]
     },
     "execution_count": 331,
     "metadata": {},
     "output_type": "execute_result"
    }
   ],
   "source": [
    "pd.DataFrame(param_best, index = param_list)"
   ]
  },
  {
   "cell_type": "markdown",
   "metadata": {},
   "source": [
    "# 学習"
   ]
  },
  {
   "cell_type": "markdown",
   "metadata": {},
   "source": [
    "regressor = xgb.XGBRegressor(eta=param_best[0], max_depth=param_best[1], \n",
    "                                 ax_child_weight=param_best[2],subsample=param_best[3], \n",
    "                                 colsample_bytree=param_best[4], _lambda=param_best[5], num_round=150, n_estimators=estimate, silent=1)"
   ]
  },
  {
   "cell_type": "code",
   "execution_count": 336,
   "metadata": {},
   "outputs": [],
   "source": [
    "regressor = xgb.XGBRegressor(eta=param_best[0], max_depth=param_best[1], \n",
    "                                 ax_child_weight=param_best[2],subsample=param_best[3], \n",
    "                                 colsample_bytree=param_best[4], _lambda=param_best[5], num_round=150, n_estimators=500, silent=1)"
   ]
  },
  {
   "cell_type": "code",
   "execution_count": 383,
   "metadata": {},
   "outputs": [],
   "source": [
    "#default\n",
    "regressor = xgb.XGBRegressor(max_depth=3, eta=0.1, subsample=0.7, num_round=150, n_estimators=100, silent=True)"
   ]
  },
  {
   "cell_type": "code",
   "execution_count": 384,
   "metadata": {},
   "outputs": [
    {
     "name": "stdout",
     "output_type": "stream",
     "text": [
      "[0]\tvalidation_0-rmse:0.224194\tvalidation_1-rmse:0.219799\n",
      "[1]\tvalidation_0-rmse:0.22294\tvalidation_1-rmse:0.218798\n",
      "[2]\tvalidation_0-rmse:0.221986\tvalidation_1-rmse:0.218013\n",
      "[3]\tvalidation_0-rmse:0.221177\tvalidation_1-rmse:0.217604\n",
      "[4]\tvalidation_0-rmse:0.220468\tvalidation_1-rmse:0.217042\n",
      "[5]\tvalidation_0-rmse:0.219866\tvalidation_1-rmse:0.216705\n",
      "[6]\tvalidation_0-rmse:0.219355\tvalidation_1-rmse:0.216266\n",
      "[7]\tvalidation_0-rmse:0.218856\tvalidation_1-rmse:0.216014\n",
      "[8]\tvalidation_0-rmse:0.218441\tvalidation_1-rmse:0.215708\n",
      "[9]\tvalidation_0-rmse:0.218045\tvalidation_1-rmse:0.215423\n",
      "[10]\tvalidation_0-rmse:0.217696\tvalidation_1-rmse:0.215213\n",
      "[11]\tvalidation_0-rmse:0.217399\tvalidation_1-rmse:0.215073\n",
      "[12]\tvalidation_0-rmse:0.217101\tvalidation_1-rmse:0.214884\n",
      "[13]\tvalidation_0-rmse:0.216876\tvalidation_1-rmse:0.214778\n",
      "[14]\tvalidation_0-rmse:0.216627\tvalidation_1-rmse:0.214653\n",
      "[15]\tvalidation_0-rmse:0.216421\tvalidation_1-rmse:0.214587\n",
      "[16]\tvalidation_0-rmse:0.216194\tvalidation_1-rmse:0.214526\n",
      "[17]\tvalidation_0-rmse:0.215969\tvalidation_1-rmse:0.214455\n",
      "[18]\tvalidation_0-rmse:0.215768\tvalidation_1-rmse:0.214365\n",
      "[19]\tvalidation_0-rmse:0.21559\tvalidation_1-rmse:0.214234\n",
      "[20]\tvalidation_0-rmse:0.215422\tvalidation_1-rmse:0.214229\n",
      "[21]\tvalidation_0-rmse:0.21525\tvalidation_1-rmse:0.214184\n",
      "[22]\tvalidation_0-rmse:0.215117\tvalidation_1-rmse:0.214135\n",
      "[23]\tvalidation_0-rmse:0.214978\tvalidation_1-rmse:0.214093\n",
      "[24]\tvalidation_0-rmse:0.214844\tvalidation_1-rmse:0.214081\n",
      "[25]\tvalidation_0-rmse:0.214706\tvalidation_1-rmse:0.213978\n",
      "[26]\tvalidation_0-rmse:0.214593\tvalidation_1-rmse:0.213912\n",
      "[27]\tvalidation_0-rmse:0.214467\tvalidation_1-rmse:0.213929\n",
      "[28]\tvalidation_0-rmse:0.214373\tvalidation_1-rmse:0.213923\n",
      "[29]\tvalidation_0-rmse:0.214302\tvalidation_1-rmse:0.213879\n",
      "[30]\tvalidation_0-rmse:0.214205\tvalidation_1-rmse:0.213799\n",
      "[31]\tvalidation_0-rmse:0.214087\tvalidation_1-rmse:0.213721\n",
      "[32]\tvalidation_0-rmse:0.213978\tvalidation_1-rmse:0.213635\n",
      "[33]\tvalidation_0-rmse:0.213911\tvalidation_1-rmse:0.213624\n",
      "[34]\tvalidation_0-rmse:0.213817\tvalidation_1-rmse:0.213642\n",
      "[35]\tvalidation_0-rmse:0.213712\tvalidation_1-rmse:0.213636\n",
      "[36]\tvalidation_0-rmse:0.213585\tvalidation_1-rmse:0.213711\n",
      "[37]\tvalidation_0-rmse:0.213433\tvalidation_1-rmse:0.21371\n",
      "[38]\tvalidation_0-rmse:0.213364\tvalidation_1-rmse:0.213724\n",
      "[39]\tvalidation_0-rmse:0.213265\tvalidation_1-rmse:0.213647\n",
      "[40]\tvalidation_0-rmse:0.213168\tvalidation_1-rmse:0.213659\n",
      "[41]\tvalidation_0-rmse:0.213065\tvalidation_1-rmse:0.213632\n",
      "[42]\tvalidation_0-rmse:0.212988\tvalidation_1-rmse:0.213588\n",
      "[43]\tvalidation_0-rmse:0.212873\tvalidation_1-rmse:0.213605\n",
      "[44]\tvalidation_0-rmse:0.212815\tvalidation_1-rmse:0.213589\n",
      "[45]\tvalidation_0-rmse:0.212744\tvalidation_1-rmse:0.213601\n",
      "[46]\tvalidation_0-rmse:0.212647\tvalidation_1-rmse:0.213617\n",
      "[47]\tvalidation_0-rmse:0.212591\tvalidation_1-rmse:0.213638\n",
      "[48]\tvalidation_0-rmse:0.212507\tvalidation_1-rmse:0.213622\n",
      "[49]\tvalidation_0-rmse:0.21239\tvalidation_1-rmse:0.213662\n",
      "[50]\tvalidation_0-rmse:0.212327\tvalidation_1-rmse:0.21363\n",
      "[51]\tvalidation_0-rmse:0.212271\tvalidation_1-rmse:0.213623\n",
      "[52]\tvalidation_0-rmse:0.212199\tvalidation_1-rmse:0.213625\n",
      "[53]\tvalidation_0-rmse:0.212102\tvalidation_1-rmse:0.213697\n",
      "[54]\tvalidation_0-rmse:0.212018\tvalidation_1-rmse:0.213745\n",
      "[55]\tvalidation_0-rmse:0.211938\tvalidation_1-rmse:0.213773\n",
      "[56]\tvalidation_0-rmse:0.211892\tvalidation_1-rmse:0.213812\n",
      "[57]\tvalidation_0-rmse:0.211807\tvalidation_1-rmse:0.213804\n",
      "[58]\tvalidation_0-rmse:0.211727\tvalidation_1-rmse:0.213827\n",
      "[59]\tvalidation_0-rmse:0.211662\tvalidation_1-rmse:0.213897\n",
      "[60]\tvalidation_0-rmse:0.211572\tvalidation_1-rmse:0.213922\n",
      "[61]\tvalidation_0-rmse:0.211501\tvalidation_1-rmse:0.213945\n",
      "[62]\tvalidation_0-rmse:0.211434\tvalidation_1-rmse:0.213952\n",
      "[63]\tvalidation_0-rmse:0.211367\tvalidation_1-rmse:0.213969\n",
      "[64]\tvalidation_0-rmse:0.211289\tvalidation_1-rmse:0.213932\n",
      "[65]\tvalidation_0-rmse:0.211201\tvalidation_1-rmse:0.213949\n",
      "[66]\tvalidation_0-rmse:0.211116\tvalidation_1-rmse:0.213953\n",
      "[67]\tvalidation_0-rmse:0.211095\tvalidation_1-rmse:0.213963\n",
      "[68]\tvalidation_0-rmse:0.211029\tvalidation_1-rmse:0.213907\n",
      "[69]\tvalidation_0-rmse:0.21099\tvalidation_1-rmse:0.213919\n",
      "[70]\tvalidation_0-rmse:0.210924\tvalidation_1-rmse:0.213994\n",
      "[71]\tvalidation_0-rmse:0.210829\tvalidation_1-rmse:0.21394\n",
      "[72]\tvalidation_0-rmse:0.210807\tvalidation_1-rmse:0.213964\n",
      "[73]\tvalidation_0-rmse:0.210761\tvalidation_1-rmse:0.213885\n",
      "[74]\tvalidation_0-rmse:0.210638\tvalidation_1-rmse:0.213975\n",
      "[75]\tvalidation_0-rmse:0.210586\tvalidation_1-rmse:0.21397\n",
      "[76]\tvalidation_0-rmse:0.210496\tvalidation_1-rmse:0.214004\n",
      "[77]\tvalidation_0-rmse:0.2104\tvalidation_1-rmse:0.214023\n",
      "[78]\tvalidation_0-rmse:0.21036\tvalidation_1-rmse:0.214058\n",
      "[79]\tvalidation_0-rmse:0.210249\tvalidation_1-rmse:0.214046\n",
      "[80]\tvalidation_0-rmse:0.21018\tvalidation_1-rmse:0.213994\n",
      "[81]\tvalidation_0-rmse:0.210101\tvalidation_1-rmse:0.214059\n",
      "[82]\tvalidation_0-rmse:0.21005\tvalidation_1-rmse:0.214071\n",
      "[83]\tvalidation_0-rmse:0.210007\tvalidation_1-rmse:0.214081\n",
      "[84]\tvalidation_0-rmse:0.209936\tvalidation_1-rmse:0.214062\n",
      "[85]\tvalidation_0-rmse:0.209861\tvalidation_1-rmse:0.214088\n",
      "[86]\tvalidation_0-rmse:0.209805\tvalidation_1-rmse:0.21411\n",
      "[87]\tvalidation_0-rmse:0.209741\tvalidation_1-rmse:0.214046\n",
      "[88]\tvalidation_0-rmse:0.20969\tvalidation_1-rmse:0.2141\n",
      "[89]\tvalidation_0-rmse:0.209637\tvalidation_1-rmse:0.214074\n",
      "[90]\tvalidation_0-rmse:0.209546\tvalidation_1-rmse:0.214075\n",
      "[91]\tvalidation_0-rmse:0.20944\tvalidation_1-rmse:0.214139\n",
      "[92]\tvalidation_0-rmse:0.20939\tvalidation_1-rmse:0.21417\n",
      "[93]\tvalidation_0-rmse:0.209347\tvalidation_1-rmse:0.214194\n",
      "[94]\tvalidation_0-rmse:0.209321\tvalidation_1-rmse:0.214215\n",
      "[95]\tvalidation_0-rmse:0.209279\tvalidation_1-rmse:0.214231\n",
      "[96]\tvalidation_0-rmse:0.209252\tvalidation_1-rmse:0.214285\n",
      "[97]\tvalidation_0-rmse:0.209209\tvalidation_1-rmse:0.214274\n",
      "[98]\tvalidation_0-rmse:0.209147\tvalidation_1-rmse:0.214299\n",
      "[99]\tvalidation_0-rmse:0.209074\tvalidation_1-rmse:0.214376\n"
     ]
    },
    {
     "data": {
      "text/plain": [
       "XGBRegressor(base_score=0.5, booster='gbtree', colsample_bylevel=1,\n",
       "       colsample_bytree=1, eta=0.1, gamma=0, learning_rate=0.1,\n",
       "       max_delta_step=0, max_depth=3, min_child_weight=1, missing=None,\n",
       "       n_estimators=100, n_jobs=1, nthread=None, num_round=150,\n",
       "       objective='reg:linear', random_state=0, reg_alpha=0, reg_lambda=1,\n",
       "       scale_pos_weight=1, seed=None, silent=True, subsample=0.7)"
      ]
     },
     "execution_count": 384,
     "metadata": {},
     "output_type": "execute_result"
    }
   ],
   "source": [
    "regressor.fit(X_train, y_train, eval_set = [(X_train, y_train), (X_validation, y_validation)])"
   ]
  },
  {
   "cell_type": "code",
   "execution_count": 385,
   "metadata": {},
   "outputs": [],
   "source": [
    "eval_result = regressor.evals_result()"
   ]
  },
  {
   "cell_type": "code",
   "execution_count": 386,
   "metadata": {},
   "outputs": [],
   "source": [
    "training_rounds = range(len(eval_result['validation_0']['rmse']))"
   ]
  },
  {
   "cell_type": "markdown",
   "metadata": {},
   "source": [
    "# 予測"
   ]
  },
  {
   "cell_type": "markdown",
   "metadata": {},
   "source": [
    "## 計算"
   ]
  },
  {
   "cell_type": "code",
   "execution_count": 387,
   "metadata": {},
   "outputs": [],
   "source": [
    "result = regressor.predict(X_test)"
   ]
  },
  {
   "cell_type": "code",
   "execution_count": 388,
   "metadata": {},
   "outputs": [],
   "source": [
    "objective_pred = objective + '_pred'"
   ]
  },
  {
   "cell_type": "code",
   "execution_count": null,
   "metadata": {},
   "outputs": [],
   "source": [
    "test_df[objective_pred] = result"
   ]
  },
  {
   "cell_type": "markdown",
   "metadata": {},
   "source": [
    "# racekeyの再結合"
   ]
  },
  {
   "cell_type": "code",
   "execution_count": 390,
   "metadata": {},
   "outputs": [],
   "source": [
    "test_racekey_df_1 = pd.concat([racekey_df, test_df], axis=1, join_axes=[test_df.index])"
   ]
  },
  {
   "cell_type": "code",
   "execution_count": 391,
   "metadata": {},
   "outputs": [],
   "source": [
    "ctgry_col_list = list(ctgry_col)"
   ]
  },
  {
   "cell_type": "code",
   "execution_count": 392,
   "metadata": {},
   "outputs": [
    {
     "data": {
      "text/plain": [
       "['天候コード_1', '天候コード_2', '天候コード_3', '天候コード_4', '天候コード_5', '天候コード_6']"
      ]
     },
     "execution_count": 392,
     "metadata": {},
     "output_type": "execute_result"
    }
   ],
   "source": [
    "ctgry_col_list"
   ]
  },
  {
   "cell_type": "code",
   "execution_count": 393,
   "metadata": {},
   "outputs": [],
   "source": [
    "test_racekey_df = copy.copy(test_racekey_df_1)"
   ]
  },
  {
   "cell_type": "markdown",
   "metadata": {},
   "source": [
    "# One hot decoding"
   ]
  },
  {
   "cell_type": "code",
   "execution_count": 394,
   "metadata": {},
   "outputs": [],
   "source": [
    "data_onehot_dec_df_1 = copy.copy(test_racekey_df)"
   ]
  },
  {
   "cell_type": "code",
   "execution_count": 396,
   "metadata": {},
   "outputs": [],
   "source": [
    "ctgry_onehot_decoded = pd.DataFrame(index=[i for i in range(len(test_df))])\n",
    "for ctgry_num in range(len(ctgry_list)):\n",
    "    ctgry_col_list = ctgry_col_all[ctgry_num]\n",
    "    ctgry_E_df = test_df.loc[:,ctgry_col_list].reset_index(drop=True)\n",
    "    \n",
    "    ctgry_E_list = onehot_decoder(ctgry_E_df)\n",
    "    ctgry_E_df_1 = pd.DataFrame(ctgry_E_list, columns=[ctgry_list[ctgry_num]])\n",
    "    \n",
    "    ctgry_onehot_decoded = pd.concat([ctgry_onehot_decoded, ctgry_E_df_1], axis=1)"
   ]
  },
  {
   "cell_type": "code",
   "execution_count": 397,
   "metadata": {},
   "outputs": [],
   "source": [
    "col_extend = []\n",
    "for col in ctgry_col_all:\n",
    "    col_extend.extend(list(col))"
   ]
  },
  {
   "cell_type": "code",
   "execution_count": 398,
   "metadata": {},
   "outputs": [],
   "source": [
    "non_onehot_df_1 = data_onehot_dec_df_1.drop(col_extend, axis=1).reset_index(drop=True)"
   ]
  },
  {
   "cell_type": "code",
   "execution_count": 399,
   "metadata": {},
   "outputs": [],
   "source": [
    "data_onehot_dec_df_2 = pd.concat([non_onehot_df_1, ctgry_onehot_decoded], axis=1)"
   ]
  },
  {
   "cell_type": "code",
   "execution_count": 400,
   "metadata": {},
   "outputs": [],
   "source": [
    "data_onehot_dec_df = copy.copy(data_onehot_dec_df_2)"
   ]
  },
  {
   "cell_type": "markdown",
   "metadata": {},
   "source": [
    "# 誤差率の分析"
   ]
  },
  {
   "cell_type": "code",
   "execution_count": 401,
   "metadata": {},
   "outputs": [],
   "source": [
    "data_error_df_1 = copy.copy(data_onehot_dec_df)"
   ]
  },
  {
   "cell_type": "code",
   "execution_count": 402,
   "metadata": {},
   "outputs": [
    {
     "name": "stdout",
     "output_type": "stream",
     "text": [
      "0.2244\n"
     ]
    }
   ],
   "source": [
    "rmse_test_1 = metrics.mean_squared_error(data_error_df_1[objective], data_error_df_1[objective_pred]) ** .5\n",
    "rmse_test = round(rmse_test_1, 4)\n",
    "print(rmse_test)"
   ]
  },
  {
   "cell_type": "markdown",
   "metadata": {},
   "source": [
    "error_pivot = data.pivot_table(index=['gclass_idnt'], columns=['pu_cd'], values=['error'], margins=True, margins_name='average', aggfunc=np.mean)"
   ]
  },
  {
   "cell_type": "markdown",
   "metadata": {},
   "source": [
    "# 可視化"
   ]
  },
  {
   "cell_type": "code",
   "execution_count": 403,
   "metadata": {},
   "outputs": [],
   "source": [
    "data_graph_df_1 = copy.copy(data_onehot_dec_df)"
   ]
  },
  {
   "cell_type": "code",
   "execution_count": 404,
   "metadata": {},
   "outputs": [],
   "source": [
    "name = 'keibe_spearman_pred_xgb_' + num_model"
   ]
  },
  {
   "cell_type": "markdown",
   "metadata": {},
   "source": [
    "## 最適化"
   ]
  },
  {
   "cell_type": "code",
   "execution_count": 405,
   "metadata": {},
   "outputs": [
    {
     "data": {
      "image/png": "[encoded data removed]",
      "text/plain": [
       "<Figure size 720x720 with 1 Axes>"
      ]
     },
     "metadata": {},
     "output_type": "display_data"
    }
   ],
   "source": [
    "fig = plt.figure(figsize=(10,10)) #図の生成\n",
    "ax = fig.add_subplot(1,1,1)\n",
    "plot_convergence(res, ax=ax)\n",
    "fig = ax.figure\n",
    "fig.savefig('../Graph/'+name+'_RMSE_opt.png',  bbox_inches=\"tight\")"
   ]
  },
  {
   "cell_type": "code",
   "execution_count": 406,
   "metadata": {},
   "outputs": [],
   "source": [
    "x = np.arange(-1, 1.1,0.1)"
   ]
  },
  {
   "cell_type": "markdown",
   "metadata": {},
   "source": [
    "## 散布図"
   ]
  },
  {
   "cell_type": "code",
   "execution_count": 407,
   "metadata": {},
   "outputs": [
    {
     "data": {
      "image/png": "[encoded data removed]",
      "text/plain": [
       "<Figure size 720x720 with 1 Axes>"
      ]
     },
     "metadata": {},
     "output_type": "display_data"
    }
   ],
   "source": [
    "plt.rcParams[\"font.size\"] = 16 #フォントサイズの指定\n",
    "fig = plt.figure(figsize=(10,10)) #図の生成\n",
    "ax = fig.add_subplot(1,1,1) #軸の指定\n",
    "\n",
    "#plt.grid(True)\n",
    "\n",
    "ax.scatter(data_graph_df_1[objective], data_graph_df_1[objective_pred], label='RMSE_test: ' + str(rmse_test)) #データのプロット\n",
    "\n",
    "ax.plot(x,x)\n",
    "\n",
    "ax.set_xlim([-1, 1]) #x軸の範囲\n",
    "ax.set_ylim([-1, 1]) #y軸の範囲\n",
    "\n",
    "\n",
    "ax.set_title(name) #グラフのタイトル\n",
    "ax.set_xlabel(objective) #x軸の名前\n",
    "ax.set_ylabel(objective_pred) #y軸の名前\n",
    "\n",
    "ax.legend(loc='upper left', fontsize=20) #凡例の表示\n",
    "plt.savefig('../Graph/' + name +  '_'  + '_scatter.png', bbox_inches=\"tight\")\n",
    "#plt.show()"
   ]
  },
  {
   "cell_type": "markdown",
   "metadata": {},
   "source": [
    "## ヒストグラム"
   ]
  },
  {
   "cell_type": "code",
   "execution_count": 408,
   "metadata": {},
   "outputs": [
    {
     "name": "stderr",
     "output_type": "stream",
     "text": [
      "C:\\Users\\Yuya\\Anaconda3\\envs\\python36_xgboost\\lib\\site-packages\\matplotlib\\axes\\_axes.py:6571: UserWarning: The 'normed' kwarg is deprecated, and has been replaced by the 'density' kwarg.\n",
      "  warnings.warn(\"The 'normed' kwarg is deprecated, and has been \"\n"
     ]
    },
    {
     "data": {
      "image/png": "[encoded data removed]",
      "text/plain": [
       "<Figure size 720x720 with 1 Axes>"
      ]
     },
     "metadata": {},
     "output_type": "display_data"
    }
   ],
   "source": [
    "name = 'keiba_spearman_hist'\n",
    "plt.rcParams[\"font.size\"] = 16 #フォントサイズの指定\n",
    "fig = plt.figure(figsize=(10,10)) #図の生成\n",
    "ax = fig.add_subplot(1,1,1) #軸の指定\n",
    "\n",
    "plt.grid(True)\n",
    "\n",
    "#ax.hist(data_graph_df_1[objective], bins=100, alpha=0.3, label=objective + '_act_all')\n",
    "#ax.hist(data_onehot_df[objective], bins=100, alpha=0.3, normed=True, label=objective + '_all')\n",
    "ax.hist(data_graph_df_1[objective_pred], bins=100, alpha=0.3, normed=True, label=objective + '_pred_2017')\n",
    "ax.hist(data_graph_df_1[objective], bins=100, alpha=0.3,normed=True,  label=objective + '_act_2017')\n",
    "\n",
    "#ax.plot(x,x)\n",
    "\n",
    "ax.set_xlim([None, None]) #x軸の範囲\n",
    "ax.set_ylim([None, None]) #y軸の範囲\n",
    "\n",
    "ax.set_title(name) #グラフのタイトル\n",
    "ax.set_xlabel('spearman_corr') #x軸の名前\n",
    "ax.set_ylabel('freq') #y軸の名前\n",
    "plt.savefig('../Graph/' + name + '.png', bbox_inches=\"tight\")\n",
    "ax.legend(loc='upper right', fontsize=20) #凡例の表示\n",
    "plt.show()"
   ]
  },
  {
   "cell_type": "code",
   "execution_count": null,
   "metadata": {},
   "outputs": [],
   "source": []
  },
  {
   "cell_type": "markdown",
   "metadata": {},
   "source": [
    "## Training VS Validation Error"
   ]
  },
  {
   "cell_type": "code",
   "execution_count": 409,
   "metadata": {},
   "outputs": [
    {
     "data": {
      "image/png": "[encoded data removed]",
      "text/plain": [
       "<Figure size 720x576 with 1 Axes>"
      ]
     },
     "metadata": {},
     "output_type": "display_data"
    }
   ],
   "source": [
    "fig = plt.figure(figsize=(10,8)) #図の生成\n",
    "ax = fig.add_subplot(1,1,1) #軸の指定\n",
    "#plt.rcParams[\"font.size\"] = 24 #フォントサイズの指定\n",
    "plt.grid(True)\n",
    "\n",
    "x = np.arange(0,1.1,0.1)\n",
    "\n",
    "\n",
    "ax.scatter(x=training_rounds, y=eval_result['validation_0']['rmse'], label='Traning Error')\n",
    "ax.scatter(x=training_rounds, y=eval_result['validation_1']['rmse'], label='Validation Error')\n",
    "\n",
    "ax.set_title(name) #グラフのタイトル\n",
    "ax.set_xlabel('Input Feature') #x軸の名前\n",
    "ax.set_ylabel('RMSE') #y軸の名前\n",
    "\n",
    "ax.legend(loc='upper right', fontsize=20) #凡例の表示\n",
    "plt.savefig('../Graph/' + name +  '_RMSE.png', bbox_inches=\"tight\")\n",
    "#plt.show()"
   ]
  },
  {
   "cell_type": "markdown",
   "metadata": {},
   "source": [
    "## Feature importance"
   ]
  },
  {
   "cell_type": "code",
   "execution_count": 308,
   "metadata": {},
   "outputs": [],
   "source": [
    "plt.rcParams['font.family'] = 'IPAPGothic'\n",
    "plt.rcParams[\"figure.figsize\"] = [20, 12]\n",
    "plt.rcParams['font.size'] = 20 #フォントサイズを設定 default : 12\n",
    "plt.rcParams['xtick.labelsize'] = 15 # 横軸のフォントサイズ\n",
    "plt.rcParams['ytick.labelsize'] = 15"
   ]
  },
  {
   "cell_type": "code",
   "execution_count": 309,
   "metadata": {},
   "outputs": [],
   "source": [
    "font = {'family': 'IPAexGothic'}\n",
    "matplotlib.rc('font', **font)"
   ]
  },
  {
   "cell_type": "code",
   "execution_count": 310,
   "metadata": {},
   "outputs": [
    {
     "data": {
      "image/png": "[encoded data removed]",
      "text/plain": [
       "<Figure size 1440x864 with 1 Axes>"
      ]
     },
     "metadata": {},
     "output_type": "display_data"
    }
   ],
   "source": [
    "#fig = plt.figure(figsize=(10,10)) #図の生成\n",
    "#ax = fig.add_subplot(1,1,1) #軸の指定\n",
    "#plt.rcParams[\"font.size\"] = 12 #フォントサイズの指定\n",
    "ax = xgb.plot_importance(regressor, max_num_features=17)\n",
    "fig = ax.figure\n",
    "fig.savefig('../Graph/'+name+'_FeatureImportance.png',  bbox_inches=\"tight\")\n",
    "\n",
    "plt.show()"
   ]
  }
 ],
 "metadata": {
  "kernelspec": {
   "display_name": "Python 3",
   "language": "python",
   "name": "python3"
  },
  "language_info": {
   "codemirror_mode": {
    "name": "ipython",
    "version": 3
   },
   "file_extension": ".py",
   "mimetype": "text/x-python",
   "name": "python",
   "nbconvert_exporter": "python",
   "pygments_lexer": "ipython3",
   "version": "3.6.6"
  },
  "toc": {
   "base_numbering": 1,
   "nav_menu": {},
   "number_sections": true,
   "sideBar": true,
   "skip_h1_title": false,
   "title_cell": "Table of Contents",
   "title_sidebar": "Contents",
   "toc_cell": true,
   "toc_position": {
    "height": "calc(100% - 180px)",
    "left": "10px",
    "top": "150px",
    "width": "303.542px"
   },
   "toc_section_display": true,
   "toc_window_display": true
  }
 },
 "nbformat": 4,
 "nbformat_minor": 2
}
